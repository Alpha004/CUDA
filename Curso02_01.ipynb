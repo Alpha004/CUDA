{
  "nbformat": 4,
  "nbformat_minor": 0,
  "metadata": {
    "colab": {
      "provenance": [],
      "gpuType": "T4",
      "authorship_tag": "ABX9TyO83+DR957in+FyOp5YOh0W",
      "include_colab_link": true
    },
    "kernelspec": {
      "name": "python3",
      "display_name": "Python 3"
    },
    "language_info": {
      "name": "python"
    },
    "accelerator": "GPU"
  },
  "cells": [
    {
      "cell_type": "markdown",
      "metadata": {
        "id": "view-in-github",
        "colab_type": "text"
      },
      "source": [
        "<a href=\"https://colab.research.google.com/github/HeberthDCM/CUDA/blob/main/Curso02_01.ipynb\" target=\"_parent\"><img src=\"https://colab.research.google.com/assets/colab-badge.svg\" alt=\"Open In Colab\"/></a>"
      ]
    },
    {
      "cell_type": "code",
      "source": [
        "!pip install nvcc4jupyter\n",
        "%load_ext nvcc4jupyter"
      ],
      "metadata": {
        "colab": {
          "base_uri": "https://localhost:8080/"
        },
        "id": "-KyLDSBztAlh",
        "outputId": "6108f26e-3c38-449d-abb9-f55eab40b80d"
      },
      "execution_count": 4,
      "outputs": [
        {
          "output_type": "stream",
          "name": "stdout",
          "text": [
            "Requirement already satisfied: nvcc4jupyter in /usr/local/lib/python3.10/dist-packages (1.2.1)\n",
            "The nvcc4jupyter extension is already loaded. To reload it, use:\n",
            "  %reload_ext nvcc4jupyter\n"
          ]
        }
      ]
    },
    {
      "cell_type": "code",
      "source": [
        "%%cuda\n",
        "// includes\n",
        "#include <stdio.h>\n",
        "#include <stdlib.h>\n",
        "#include <cuda_runtime.h>\n",
        "\n",
        "//Declaración de funciones\n",
        "__global__ void suma(int *vector_1, int *vector_2, int *vector_suma, int n){\n",
        "\t\t int myId = threadIdx.x; //Declaramos el identificador de Hilo\n",
        "\t\t vector_2[myId]=(n-1) - myId;\n",
        "\t\t vector_suma[myId] = vector_1[myId] + vector_2[myId];\n",
        "}\n",
        "\n",
        "int main(int argc,char** argv){\n",
        "\t\t // declaración de variables\n",
        "\t\t int *hst_vector_1, *hst_vector_2, *hst_resultado; // Declaracion para host\n",
        "\t\t int *dev_vector_1, *dev_vector_2, *dev_resultado; // Declaraciones para dev\n",
        "\t\t int n=8; // número de elementos\n",
        "\n",
        "\t\t// Reserva de recursos par el host\n",
        "\t\thst_vector_1 = (int*)malloc(n * sizeof(int));\n",
        "\t  hst_vector_2 = (int*)malloc(n * sizeof(int));\n",
        "\t\thst_resultado = (int*)malloc(n * sizeof(int));\n",
        "\n",
        "\t  // Reserva de recursos en el Device\n",
        "\t\t cudaMalloc((void**)&dev_vector_1, n*sizeof(int));\n",
        "\t\t cudaMalloc((void**)&dev_vector_2, n*sizeof(int));\n",
        "\t\t cudaMalloc((void**)&dev_resultado, n * sizeof(int));\n",
        "\n",
        "\t\t //inicializacion de vectores\n",
        "\t\t for(int i=0; i<n; i++){\n",
        "\t\t\t\t\thst_vector_1[i]=i;\n",
        "\t\t\t\t\thst_vector_2[i]=0;\n",
        "\t\t }\n",
        "\t\t //copia de datos al device\n",
        "\t\t cudaMemcpy(dev_vector_1,hst_vector_1,n*sizeof(int),cudaMemcpyHostToDevice);\n",
        "\n",
        "\t\t //lanzamiento kernel\n",
        "\t\t suma <<< 1,n >>>(dev_vector_1,dev_vector_2,dev_resultado,n);\n",
        "\n",
        "\t\t //recogida de datos del device\n",
        "\t\t cudaMemcpy(hst_resultado,dev_resultado,n*sizeof(int),cudaMemcpyDeviceToHost);\n",
        "\n",
        "\t\t // resultados\n",
        "\t\t printf(\"Vector 1:\\n\");\n",
        "\t\t for(int i=0;i<n;i++){\n",
        "\t\t\t\t\tprintf(\"%2d\", hst_vector_1[i]);\n",
        "\n",
        "\t\t }\n",
        "\t\t printf(\"\\nVector 2:\\n\");\n",
        "\t\t for(int i=0;i<n;i++){\n",
        "\t\t\t\t\tprintf(\"%2d\", hst_vector_2[i]);\n",
        "\t\t }\n",
        " \t\t printf(\"\\nResultado 2:\\n\");\n",
        "\t\t for(int i=0;i<n;i++){\n",
        "\t\t\t\t\tprintf(\"%2d\", hst_resultado[i]);\n",
        "\t\t }\n",
        "\n",
        "}"
      ],
      "metadata": {
        "colab": {
          "base_uri": "https://localhost:8080/"
        },
        "id": "xg6iwOnwsXU9",
        "outputId": "da3dfcf3-c8e5-4dcc-87f9-c22b93ab8069"
      },
      "execution_count": 9,
      "outputs": [
        {
          "output_type": "stream",
          "name": "stdout",
          "text": [
            "Vector 1:\n",
            " 0 1 2 3 4 5 6 7\n",
            "Vector 2:\n",
            " 0 0 0 0 0 0 0 0\n",
            "Resultado 2:\n",
            " 7 7 7 7 7 7 7 7\n"
          ]
        }
      ]
    }
  ]
}